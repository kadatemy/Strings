{
  "nbformat": 4,
  "nbformat_minor": 0,
  "metadata": {
    "kernelspec": {
      "display_name": "Python 3",
      "language": "python",
      "name": "python3"
    },
    "language_info": {
      "codemirror_mode": {
        "name": "ipython",
        "version": 3
      },
      "file_extension": ".py",
      "mimetype": "text/x-python",
      "name": "python",
      "nbconvert_exporter": "python",
      "pygments_lexer": "ipython3",
      "version": "3.8.5"
    },
    "colab": {
      "name": "Kadatemy - Strings.ipynb",
      "provenance": []
    }
  },
  "cells": [
    {
      "cell_type": "markdown",
      "metadata": {
        "id": "Deyb_lBlYEOy"
      },
      "source": [
        "#### STRINGS"
      ]
    },
    {
      "cell_type": "code",
      "metadata": {
        "id": "gMZHNju3YEOz"
      },
      "source": [
        "# \"Strings in python are surrounded by either single quotation marks, or double quotation marks.\"\n",
        "\n",
        "# 'hello' is the same as \"hello\""
      ],
      "execution_count": null,
      "outputs": []
    },
    {
      "cell_type": "markdown",
      "metadata": {
        "id": "MFtKWE0JYsBn"
      },
      "source": [
        "Assigning a string 'Chima Ihueze' to the variable name"
      ]
    },
    {
      "cell_type": "code",
      "metadata": {
        "id": "S_VXymViYEO1"
      },
      "source": [
        "name = \"Chima Ihueze\""
      ],
      "execution_count": null,
      "outputs": []
    },
    {
      "cell_type": "code",
      "metadata": {
        "id": "YfeiNzXXYEO2"
      },
      "source": [
        "name2 = 'Chima Ihueze'"
      ],
      "execution_count": null,
      "outputs": []
    },
    {
      "cell_type": "markdown",
      "metadata": {
        "id": "d_UlrMqyY_f4"
      },
      "source": [
        "Single or double quotation is what differentiates a number written as a string from a number that has the data type int"
      ]
    },
    {
      "cell_type": "code",
      "metadata": {
        "id": "a9yt0RFiYEO3"
      },
      "source": [
        "num = '10'"
      ],
      "execution_count": null,
      "outputs": []
    },
    {
      "cell_type": "markdown",
      "metadata": {
        "id": "jOel9j-dZMl3"
      },
      "source": [
        "The function type() is used to determine the data type of a variable. There are three data types talked about in this lesson - string, float and int"
      ]
    },
    {
      "cell_type": "code",
      "metadata": {
        "id": "k-QejdO7YEO3",
        "outputId": "36f98602-a841-4106-b8dd-b3612ad4456f"
      },
      "source": [
        "type(num)"
      ],
      "execution_count": null,
      "outputs": [
        {
          "output_type": "execute_result",
          "data": {
            "text/plain": [
              "str"
            ]
          },
          "metadata": {
            "tags": []
          },
          "execution_count": 29
        }
      ]
    },
    {
      "cell_type": "code",
      "metadata": {
        "id": "OOhks271YEO4"
      },
      "source": [
        "num2 = '10.2'"
      ],
      "execution_count": null,
      "outputs": []
    },
    {
      "cell_type": "code",
      "metadata": {
        "id": "F2svYXfNYEO4",
        "outputId": "6e2da23c-a34d-4520-b4a4-2e1e55ea930d"
      },
      "source": [
        "type(name)"
      ],
      "execution_count": null,
      "outputs": [
        {
          "output_type": "execute_result",
          "data": {
            "text/plain": [
              "str"
            ]
          },
          "metadata": {
            "tags": []
          },
          "execution_count": 24
        }
      ]
    },
    {
      "cell_type": "markdown",
      "metadata": {
        "id": "vzNnIdOfZot-"
      },
      "source": [
        "Triple quotations can also be used to signify a string. The error that occurred was because the variable wasn't in a line"
      ]
    },
    {
      "cell_type": "code",
      "metadata": {
        "id": "fDDq4AwXYEO4"
      },
      "source": [
        "a = \"\"\"Chima Ihueze\"\"\""
      ],
      "execution_count": null,
      "outputs": []
    },
    {
      "cell_type": "code",
      "metadata": {
        "id": "5j71eGgvYEO4",
        "outputId": "3e4bf26b-70a3-4d4d-b9a2-2ee48251ec36"
      },
      "source": [
        "type(a)"
      ],
      "execution_count": null,
      "outputs": [
        {
          "output_type": "execute_result",
          "data": {
            "text/plain": [
              "str"
            ]
          },
          "metadata": {
            "tags": []
          },
          "execution_count": 34
        }
      ]
    },
    {
      "cell_type": "code",
      "metadata": {
        "id": "y6maSvJJYEO5"
      },
      "source": [
        "name = \"Chima Ihueze\""
      ],
      "execution_count": null,
      "outputs": []
    },
    {
      "cell_type": "code",
      "metadata": {
        "id": "dwCs59x1YEO5",
        "outputId": "3c19cf69-4715-4496-ed13-53abcf02ddb7"
      },
      "source": [
        "print(name)"
      ],
      "execution_count": null,
      "outputs": [
        {
          "output_type": "stream",
          "text": [
            "Chima Ihueze\n"
          ],
          "name": "stdout"
        }
      ]
    },
    {
      "cell_type": "code",
      "metadata": {
        "id": "AVvKbqa3YEO5"
      },
      "source": [
        ""
      ],
      "execution_count": null,
      "outputs": []
    },
    {
      "cell_type": "code",
      "metadata": {
        "id": "_RexSwBxYEO5",
        "outputId": "e8628016-6c1d-4cf5-d0e8-f9c1cb620ab9"
      },
      "source": [
        "\"My name is Chima Ihueze\""
      ],
      "execution_count": null,
      "outputs": [
        {
          "output_type": "execute_result",
          "data": {
            "text/plain": [
              "'My name is Chima Ihueze'"
            ]
          },
          "metadata": {
            "tags": []
          },
          "execution_count": 39
        }
      ]
    },
    {
      "cell_type": "code",
      "metadata": {
        "id": "t0D1f0PNYEO6",
        "outputId": "a531f11a-3cc8-49b1-d528-bbb1f2c73ac4"
      },
      "source": [
        "# assign a string to a variable\n",
        "name = \"Chima Ihueze\"\n",
        "type(name)"
      ],
      "execution_count": null,
      "outputs": [
        {
          "output_type": "execute_result",
          "data": {
            "text/plain": [
              "str"
            ]
          },
          "metadata": {
            "tags": []
          },
          "execution_count": 24
        }
      ]
    },
    {
      "cell_type": "code",
      "metadata": {
        "id": "IbJgbP74YEO6",
        "outputId": "ad0c7122-7956-4428-bffb-71ecad17ec85"
      },
      "source": [
        "anthem = \"\"\"\n",
        "Arise, O compatriots, Nigeria's call obey\n",
        "To serve our fatherland\n",
        "With love and strength and faith\n",
        "The labour of our heroes past\n",
        "Shall never be in vain\n",
        "To serve with heart and might\n",
        "One nation bound in freedom, peace and unity.\"\"\"\n",
        "\n",
        "type(anthem)"
      ],
      "execution_count": null,
      "outputs": [
        {
          "output_type": "execute_result",
          "data": {
            "text/plain": [
              "str"
            ]
          },
          "metadata": {
            "tags": []
          },
          "execution_count": 35
        }
      ]
    },
    {
      "cell_type": "code",
      "metadata": {
        "id": "0BSoCfgfYEO7",
        "outputId": "af07fb19-c37a-40c6-fdd8-7dc4af36985e"
      },
      "source": [
        "print(anthem)"
      ],
      "execution_count": null,
      "outputs": [
        {
          "output_type": "stream",
          "text": [
            "\n",
            "Arise, O compatriots, Nigeria's call obey\n",
            "To serve our fatherland\n",
            "With love and strength and faith\n",
            "The labour of our heroes past\n",
            "Shall never be in vain\n",
            "To serve with heart and might\n",
            "One nation bound in freedom, peace and unity.\n"
          ],
          "name": "stdout"
        }
      ]
    },
    {
      "cell_type": "markdown",
      "metadata": {
        "id": "ON2FYVdEbG0q"
      },
      "source": [
        "Using double quotes in the event you are trying to quote what was said as a string like the first example - \"Chima said: \"I am a boy\".\" will lead to syntax error. Best bet, use the example below"
      ]
    },
    {
      "cell_type": "code",
      "metadata": {
        "id": "ZduBI-i8YEO7"
      },
      "source": [
        "b = 'Chima said: \"I am a boy\".'"
      ],
      "execution_count": null,
      "outputs": []
    },
    {
      "cell_type": "code",
      "metadata": {
        "id": "wF1HOZgdYEO9",
        "outputId": "0281bf29-dfda-42a9-ea02-808cc7ea6413"
      },
      "source": [
        "print(b)"
      ],
      "execution_count": null,
      "outputs": [
        {
          "output_type": "stream",
          "text": [
            "Chima said: \"I am a boy\"\n"
          ],
          "name": "stdout"
        }
      ]
    },
    {
      "cell_type": "markdown",
      "metadata": {
        "id": "Rt_uqvLMaHQd"
      },
      "source": [
        "In the event an apostrophe has to be used in a string, the string should be in double quotations and not single quotation. Failure to do this will lead to syntax error"
      ]
    },
    {
      "cell_type": "code",
      "metadata": {
        "id": "wDx5p2JZYEO9",
        "outputId": "ff18420f-ac04-4b04-ac5e-ca3c83902894"
      },
      "source": [
        "c = \"Chima's laptop\"\n",
        "print(c)"
      ],
      "execution_count": null,
      "outputs": [
        {
          "output_type": "stream",
          "text": [
            "Chima's laptop\n"
          ],
          "name": "stdout"
        }
      ]
    },
    {
      "cell_type": "code",
      "metadata": {
        "id": "gN6Pqd8GYEO-"
      },
      "source": [
        ""
      ],
      "execution_count": null,
      "outputs": []
    },
    {
      "cell_type": "code",
      "metadata": {
        "id": "vDjCZ6HvYEO-"
      },
      "source": [
        ""
      ],
      "execution_count": null,
      "outputs": []
    },
    {
      "cell_type": "code",
      "metadata": {
        "id": "VDqJT9yMYEO-"
      },
      "source": [
        ""
      ],
      "execution_count": null,
      "outputs": []
    },
    {
      "cell_type": "code",
      "metadata": {
        "id": "zgR_s53zYEO-"
      },
      "source": [
        ""
      ],
      "execution_count": null,
      "outputs": []
    },
    {
      "cell_type": "code",
      "metadata": {
        "id": "0msXqsuTYEO-"
      },
      "source": [
        ""
      ],
      "execution_count": null,
      "outputs": []
    },
    {
      "cell_type": "code",
      "metadata": {
        "id": "wZ96fQ9SYEO_",
        "outputId": "e67fa07a-545e-4147-8f0a-79b8b4aa0eea"
      },
      "source": [
        "# What if my string has an apostrophe?\n",
        "\n",
        "withApostrophe = \"This is Regan's University Certificate\"\n",
        "\n",
        "print(withApostrophe)\n",
        "\n",
        "# OR\n",
        "\n",
        "withApostrophe = 'Michael said, and I quote: \"Do not litter this place\".'\n",
        "\n",
        "# Note that what we did reassigned the variable - withApostrophe.\n",
        "\n",
        "print(withApostrophe)"
      ],
      "execution_count": null,
      "outputs": [
        {
          "output_type": "stream",
          "text": [
            "This is Regan's University Certificate\n",
            "Michael said, and I quote: \"Do not litter this place\".\n"
          ],
          "name": "stdout"
        }
      ]
    },
    {
      "cell_type": "markdown",
      "metadata": {
        "id": "be9NaaG5YEO_"
      },
      "source": [
        "# Properties of Strings"
      ]
    },
    {
      "cell_type": "markdown",
      "metadata": {
        "id": "eXFhb9Q3YEO_"
      },
      "source": [
        "### The Length of a String\n",
        "The length of a string can be found using the len() built-in function. \n",
        "This length indicates the number of characters in the string:"
      ]
    },
    {
      "cell_type": "code",
      "metadata": {
        "id": "KB1D4W7lYEO_",
        "outputId": "646964da-18d4-48ae-8058-1cbdd328d948"
      },
      "source": [
        "len(name)"
      ],
      "execution_count": null,
      "outputs": [
        {
          "output_type": "execute_result",
          "data": {
            "text/plain": [
              "12"
            ]
          },
          "metadata": {
            "tags": []
          },
          "execution_count": 53
        }
      ]
    },
    {
      "cell_type": "markdown",
      "metadata": {
        "id": "jBhTFVhmcIAq"
      },
      "source": [
        "The example above was used to illustrate showing the length of the variable name which was created "
      ]
    },
    {
      "cell_type": "code",
      "metadata": {
        "id": "l9acjkv8YEPA"
      },
      "source": [
        ""
      ],
      "execution_count": null,
      "outputs": []
    },
    {
      "cell_type": "code",
      "metadata": {
        "id": "mEc3aBupYEPA"
      },
      "source": [
        ""
      ],
      "execution_count": null,
      "outputs": []
    },
    {
      "cell_type": "code",
      "metadata": {
        "id": "pUdJs5ZHYEPA"
      },
      "source": [
        ""
      ],
      "execution_count": null,
      "outputs": []
    },
    {
      "cell_type": "code",
      "metadata": {
        "id": "u1SxuPDCYEPA"
      },
      "source": [
        ""
      ],
      "execution_count": null,
      "outputs": []
    },
    {
      "cell_type": "code",
      "metadata": {
        "id": "IhmvUI_HYEPA",
        "outputId": "4a33235c-d340-4028-e59a-03b4b16add9b"
      },
      "source": [
        "name = \"Chima Ihueze\"\n",
        "len(name)"
      ],
      "execution_count": null,
      "outputs": [
        {
          "output_type": "execute_result",
          "data": {
            "text/plain": [
              "12"
            ]
          },
          "metadata": {
            "tags": []
          },
          "execution_count": 1
        }
      ]
    },
    {
      "cell_type": "code",
      "metadata": {
        "id": "2sk2oZ2PYEPB"
      },
      "source": [
        ""
      ],
      "execution_count": null,
      "outputs": []
    },
    {
      "cell_type": "code",
      "metadata": {
        "id": "XJZtSE6uYEPB"
      },
      "source": [
        ""
      ],
      "execution_count": null,
      "outputs": []
    },
    {
      "cell_type": "code",
      "metadata": {
        "id": "stZaXl8PYEPB"
      },
      "source": [
        ""
      ],
      "execution_count": null,
      "outputs": []
    },
    {
      "cell_type": "code",
      "metadata": {
        "id": "-L_mUeD-YEPB"
      },
      "source": [
        ""
      ],
      "execution_count": null,
      "outputs": []
    },
    {
      "cell_type": "markdown",
      "metadata": {
        "id": "VTy2y0PpYEPC"
      },
      "source": [
        "### Indexing\n",
        "In a string, every character is given a numerical index based on its position.\n",
        "A string in Python is indexed from '0' to 'n-1' where 'n' is its length. \n",
        "This means that the index of the first character in a string is 0."
      ]
    },
    {
      "cell_type": "markdown",
      "metadata": {
        "id": "-sWwyZe0cf2o"
      },
      "source": [
        "This showed the position of the first letter counting from left to right which was C"
      ]
    },
    {
      "cell_type": "code",
      "metadata": {
        "id": "nQ8822oWYEPC",
        "outputId": "5bcf2313-a578-4696-a2b6-0392d1766dc4"
      },
      "source": [
        "name[0]"
      ],
      "execution_count": null,
      "outputs": [
        {
          "output_type": "execute_result",
          "data": {
            "text/plain": [
              "'C'"
            ]
          },
          "metadata": {
            "tags": []
          },
          "execution_count": 55
        }
      ]
    },
    {
      "cell_type": "markdown",
      "metadata": {
        "id": "MntNlm2Bcs7a"
      },
      "source": [
        "Showed the position of the third letter counting from left to right which was i"
      ]
    },
    {
      "cell_type": "code",
      "metadata": {
        "id": "PRTs900DYEPC",
        "outputId": "cf872827-64da-476f-e96b-355aab3c17bf"
      },
      "source": [
        "name[2]"
      ],
      "execution_count": null,
      "outputs": [
        {
          "output_type": "execute_result",
          "data": {
            "text/plain": [
              "'i'"
            ]
          },
          "metadata": {
            "tags": []
          },
          "execution_count": 56
        }
      ]
    },
    {
      "cell_type": "markdown",
      "metadata": {
        "id": "6iNpvPh-czkC"
      },
      "source": [
        "This showed the position of the first letter counting from the right to the left which was e"
      ]
    },
    {
      "cell_type": "code",
      "metadata": {
        "id": "9VdlPIqxYEPD",
        "outputId": "4810ee48-60af-4fde-8120-ec3c9822fb55"
      },
      "source": [
        "name[-1]"
      ],
      "execution_count": null,
      "outputs": [
        {
          "output_type": "execute_result",
          "data": {
            "text/plain": [
              "'e'"
            ]
          },
          "metadata": {
            "tags": []
          },
          "execution_count": 57
        }
      ]
    },
    {
      "cell_type": "markdown",
      "metadata": {
        "id": "LbjBmSiGdKRl"
      },
      "source": [
        "This showed the position of the fourth letter counting from right to left which was u"
      ]
    },
    {
      "cell_type": "code",
      "metadata": {
        "id": "h3roX0QEYEPD",
        "outputId": "9aea5cb3-44b0-4a86-f730-84d15c86b468"
      },
      "source": [
        "name[-4]"
      ],
      "execution_count": null,
      "outputs": [
        {
          "output_type": "execute_result",
          "data": {
            "text/plain": [
              "'u'"
            ]
          },
          "metadata": {
            "tags": []
          },
          "execution_count": 58
        }
      ]
    },
    {
      "cell_type": "code",
      "metadata": {
        "id": "Jrj1mciRYEPD"
      },
      "source": [
        ""
      ],
      "execution_count": null,
      "outputs": []
    },
    {
      "cell_type": "code",
      "metadata": {
        "id": "0IMbanRJYEPD"
      },
      "source": [
        ""
      ],
      "execution_count": null,
      "outputs": []
    },
    {
      "cell_type": "code",
      "metadata": {
        "id": "lce6pgpKYEPD"
      },
      "source": [
        ""
      ],
      "execution_count": null,
      "outputs": []
    },
    {
      "cell_type": "code",
      "metadata": {
        "id": "-DTdaY9fYEPD",
        "outputId": "9420b5c4-4f81-4fed-918d-d9b2f78c696c"
      },
      "source": [
        "name[0]"
      ],
      "execution_count": null,
      "outputs": [
        {
          "output_type": "execute_result",
          "data": {
            "text/plain": [
              "'C'"
            ]
          },
          "metadata": {
            "tags": []
          },
          "execution_count": 54
        }
      ]
    },
    {
      "cell_type": "code",
      "metadata": {
        "id": "iC3bfvrzYEPE",
        "outputId": "34596bd9-fe7a-4837-bd68-a41ba1da40b6"
      },
      "source": [
        "name[-1]"
      ],
      "execution_count": null,
      "outputs": [
        {
          "output_type": "execute_result",
          "data": {
            "text/plain": [
              "'e'"
            ]
          },
          "metadata": {
            "tags": []
          },
          "execution_count": 55
        }
      ]
    },
    {
      "cell_type": "markdown",
      "metadata": {
        "id": "FQijvzm8YEPE"
      },
      "source": [
        "### String Slicing"
      ]
    },
    {
      "cell_type": "markdown",
      "metadata": {
        "id": "z0jnygI2dogf"
      },
      "source": [
        "String slicing in python means to obtain a sub-string from a given string"
      ]
    },
    {
      "cell_type": "markdown",
      "metadata": {
        "id": "g-zy1UQMd1wJ"
      },
      "source": [
        "The string name was sliced from the first letter which was in position 0 to the fifth letter which was in position 5 to obtain the sub-string 'Chima'"
      ]
    },
    {
      "cell_type": "code",
      "metadata": {
        "id": "KHLHdga6YEPE",
        "outputId": "7b75ecfd-69c2-420c-c08c-95677df19406"
      },
      "source": [
        "name[0:5]"
      ],
      "execution_count": null,
      "outputs": [
        {
          "output_type": "execute_result",
          "data": {
            "text/plain": [
              "'Chima'"
            ]
          },
          "metadata": {
            "tags": []
          },
          "execution_count": 60
        }
      ]
    },
    {
      "cell_type": "markdown",
      "metadata": {
        "id": "gLoeDJyDeN7t"
      },
      "source": [
        "The string name was sliced from the first letter which was in position 0 to the fourth letter which was in position 4 to obtain the sub-string 'Chim'"
      ]
    },
    {
      "cell_type": "code",
      "metadata": {
        "id": "w49TsJjiYEPE",
        "outputId": "21ee639e-3e67-443c-fc3a-3a46f4b938ed"
      },
      "source": [
        "name[0:4]"
      ],
      "execution_count": null,
      "outputs": [
        {
          "output_type": "execute_result",
          "data": {
            "text/plain": [
              "'Chim'"
            ]
          },
          "metadata": {
            "tags": []
          },
          "execution_count": 61
        }
      ]
    },
    {
      "cell_type": "markdown",
      "metadata": {
        "id": "7TSfcJnFeVQu"
      },
      "source": [
        "The string name was sliced from the second letter which was in position 1 from left to right, to the third letter from right to left, omitting the last two letters to obtain the sub-string 'hima Ihue'"
      ]
    },
    {
      "cell_type": "code",
      "metadata": {
        "id": "nyowuZ8OYEPE",
        "outputId": "91c20941-c107-424f-c610-082e31b77a0c"
      },
      "source": [
        "name[1:-2]"
      ],
      "execution_count": null,
      "outputs": [
        {
          "output_type": "execute_result",
          "data": {
            "text/plain": [
              "'hima Ihue'"
            ]
          },
          "metadata": {
            "tags": []
          },
          "execution_count": 62
        }
      ]
    },
    {
      "cell_type": "markdown",
      "metadata": {
        "id": "LRwfrx6fe5bU"
      },
      "source": [
        "The string name was sliced from the second letter from left to right to the second letter from right to left in thcrements of two to obtain the sub-string 'hm he'. This can be summarized as => [start:end:increment/step]"
      ]
    },
    {
      "cell_type": "code",
      "metadata": {
        "id": "ceiNUnbAYEPF",
        "outputId": "561f2bdc-0557-4fca-9708-391613c5c0d5"
      },
      "source": [
        "name[1:-2:2]"
      ],
      "execution_count": null,
      "outputs": [
        {
          "output_type": "execute_result",
          "data": {
            "text/plain": [
              "'hm he'"
            ]
          },
          "metadata": {
            "tags": []
          },
          "execution_count": 63
        }
      ]
    },
    {
      "cell_type": "code",
      "metadata": {
        "id": "vGTd0kEAYEPF",
        "outputId": "adf92066-d2ac-4db3-d01e-1e298dd63c28"
      },
      "source": [
        "num[1:-1]"
      ],
      "execution_count": null,
      "outputs": [
        {
          "output_type": "execute_result",
          "data": {
            "text/plain": [
              "'23456789034578689'"
            ]
          },
          "metadata": {
            "tags": []
          },
          "execution_count": 70
        }
      ]
    },
    {
      "cell_type": "code",
      "metadata": {
        "id": "abOcgONMYEPF",
        "outputId": "444ba764-82ee-4ad2-cdd9-78e116a55f9f"
      },
      "source": [
        "num[1:-1:3]"
      ],
      "execution_count": null,
      "outputs": [
        {
          "output_type": "execute_result",
          "data": {
            "text/plain": [
              "'258378'"
            ]
          },
          "metadata": {
            "tags": []
          },
          "execution_count": 71
        }
      ]
    },
    {
      "cell_type": "markdown",
      "metadata": {
        "id": "gQdi_nFggtgk"
      },
      "source": [
        "The string name starting from the first letter which was in position 0 to the rest of the string"
      ]
    },
    {
      "cell_type": "code",
      "metadata": {
        "id": "q0muQNxjYEPF",
        "outputId": "2d7ba0b9-b60e-418b-b056-8b9a0cf9d22a"
      },
      "source": [
        "name[0:]"
      ],
      "execution_count": null,
      "outputs": [
        {
          "output_type": "execute_result",
          "data": {
            "text/plain": [
              "'Chima Ihueze'"
            ]
          },
          "metadata": {
            "tags": []
          },
          "execution_count": 75
        }
      ]
    },
    {
      "cell_type": "markdown",
      "metadata": {
        "id": "W8pO8rPDg-l4"
      },
      "source": [
        "The string num starting from the number in the fourth position"
      ]
    },
    {
      "cell_type": "code",
      "metadata": {
        "id": "eaCV0_i5YEPG",
        "outputId": "3dfcf13f-6a43-422b-dfb1-3794307f9bd9"
      },
      "source": [
        "num[4:]"
      ],
      "execution_count": null,
      "outputs": [
        {
          "output_type": "execute_result",
          "data": {
            "text/plain": [
              "'567890345786890'"
            ]
          },
          "metadata": {
            "tags": []
          },
          "execution_count": 76
        }
      ]
    },
    {
      "cell_type": "code",
      "metadata": {
        "id": "kkZDgEaZYEPG"
      },
      "source": [
        "name = \"Chima Ihueze\""
      ],
      "execution_count": null,
      "outputs": []
    },
    {
      "cell_type": "code",
      "metadata": {
        "id": "ETbM_V3yYEPG",
        "outputId": "a1986a05-d499-4a64-ea25-bc4603a3b1d2"
      },
      "source": [
        "name[0:]"
      ],
      "execution_count": null,
      "outputs": [
        {
          "output_type": "execute_result",
          "data": {
            "text/plain": [
              "'Chima Ihueze'"
            ]
          },
          "metadata": {
            "tags": []
          },
          "execution_count": 77
        }
      ]
    },
    {
      "cell_type": "markdown",
      "metadata": {
        "id": "uSG6MYQIihIX"
      },
      "source": [
        "The code below shows the length of the variable from the letter in position 0 to the rest by spelling out the variable"
      ]
    },
    {
      "cell_type": "code",
      "metadata": {
        "id": "Bmb97yvXYEPG",
        "outputId": "b6401575-6dbc-44a6-a7b9-8b8faab1371c"
      },
      "source": [
        "name[0:len(name)]"
      ],
      "execution_count": null,
      "outputs": [
        {
          "output_type": "execute_result",
          "data": {
            "text/plain": [
              "'Chima Ihueze'"
            ]
          },
          "metadata": {
            "tags": []
          },
          "execution_count": 78
        }
      ]
    },
    {
      "cell_type": "code",
      "metadata": {
        "id": "Aixixng1YEPG"
      },
      "source": [
        "num = \"1234567890345786890\""
      ],
      "execution_count": null,
      "outputs": []
    },
    {
      "cell_type": "code",
      "metadata": {
        "id": "sGoV2na9YEPH",
        "outputId": "117a400a-f648-45ae-9856-1d06a361e017"
      },
      "source": [
        "num[0:]"
      ],
      "execution_count": null,
      "outputs": [
        {
          "output_type": "execute_result",
          "data": {
            "text/plain": [
              "'1234567890345786890'"
            ]
          },
          "metadata": {
            "tags": []
          },
          "execution_count": 79
        }
      ]
    },
    {
      "cell_type": "code",
      "metadata": {
        "id": "HBPt4lHsYEPH",
        "outputId": "b8e15bad-fa84-48ea-af80-a155207a773e"
      },
      "source": [
        ""
      ],
      "execution_count": null,
      "outputs": [
        {
          "output_type": "execute_result",
          "data": {
            "text/plain": [
              "'1357935880'"
            ]
          },
          "metadata": {
            "tags": []
          },
          "execution_count": 81
        }
      ]
    },
    {
      "cell_type": "code",
      "metadata": {
        "id": "6M2fBgzrYEPH"
      },
      "source": [
        ""
      ],
      "execution_count": null,
      "outputs": []
    },
    {
      "cell_type": "code",
      "metadata": {
        "id": "10_ztUUAYEPH"
      },
      "source": [
        ""
      ],
      "execution_count": null,
      "outputs": []
    },
    {
      "cell_type": "code",
      "metadata": {
        "id": "Ya-bjxjmYEPH"
      },
      "source": [
        ""
      ],
      "execution_count": null,
      "outputs": []
    },
    {
      "cell_type": "code",
      "metadata": {
        "id": "Kq2rdBskYEPI"
      },
      "source": [
        ""
      ],
      "execution_count": null,
      "outputs": []
    },
    {
      "cell_type": "code",
      "metadata": {
        "id": "1zia2Dn0YEPI",
        "outputId": "94b17ef6-2d4d-4592-de59-174124fade1d"
      },
      "source": [
        "name[1:5]"
      ],
      "execution_count": null,
      "outputs": [
        {
          "output_type": "execute_result",
          "data": {
            "text/plain": [
              "'hima'"
            ]
          },
          "metadata": {
            "tags": []
          },
          "execution_count": 57
        }
      ]
    },
    {
      "cell_type": "code",
      "metadata": {
        "id": "HGY33F5MYEPI"
      },
      "source": [
        ""
      ],
      "execution_count": null,
      "outputs": []
    },
    {
      "cell_type": "code",
      "metadata": {
        "id": "msM9kB2rYEPI",
        "outputId": "515d6fe4-37b4-4d63-b4bb-b6e0a96fe2ed"
      },
      "source": [
        "name[2:-2]"
      ],
      "execution_count": null,
      "outputs": [
        {
          "output_type": "execute_result",
          "data": {
            "text/plain": [
              "'ima Ihue'"
            ]
          },
          "metadata": {
            "tags": []
          },
          "execution_count": 58
        }
      ]
    },
    {
      "cell_type": "code",
      "metadata": {
        "id": "hUk-G_vdYEPI",
        "outputId": "f2b06cb1-a1d8-4bb1-a3de-f59f4c38b3d4"
      },
      "source": [
        "name[-6:-1]"
      ],
      "execution_count": null,
      "outputs": [
        {
          "output_type": "execute_result",
          "data": {
            "text/plain": [
              "'Ihuez'"
            ]
          },
          "metadata": {
            "tags": []
          },
          "execution_count": 60
        }
      ]
    },
    {
      "cell_type": "markdown",
      "metadata": {
        "id": "peOa31y9i2WR"
      },
      "source": [
        "The code below shows the length of the variable from the letter in position -6 from right to left to the rest by spelling out the variable within this range"
      ]
    },
    {
      "cell_type": "code",
      "metadata": {
        "id": "Ysj2RlQ4YEPI",
        "outputId": "3a3f2299-0e47-4181-b43e-448190ccc880"
      },
      "source": [
        "name[-6:len(name)]"
      ],
      "execution_count": null,
      "outputs": [
        {
          "output_type": "execute_result",
          "data": {
            "text/plain": [
              "'Ihueze'"
            ]
          },
          "metadata": {
            "tags": []
          },
          "execution_count": 63
        }
      ]
    },
    {
      "cell_type": "markdown",
      "metadata": {
        "id": "F1707mLRYEPJ"
      },
      "source": [
        "### Slicing with a Step\n",
        "\n",
        "Until now, we’ve used slicing to obtain a contiguous piece of a string, i.e., all the characters from the starting index to before the ending index are retrieved.\n",
        "\n",
        "However, we can define a step through which we can skip characters in the string. The default step is 1, so we iterate through the string one character at a time.\n",
        "\n",
        "The step is defined after the end index:"
      ]
    },
    {
      "cell_type": "code",
      "metadata": {
        "id": "l9hd8J1WYEPJ",
        "outputId": "3efe449a-0919-4ccf-aa4a-159c91860ea1"
      },
      "source": [
        "name[0:-1:2]"
      ],
      "execution_count": null,
      "outputs": [
        {
          "output_type": "execute_result",
          "data": {
            "text/plain": [
              "'CiaIuz'"
            ]
          },
          "metadata": {
            "tags": []
          },
          "execution_count": 67
        }
      ]
    },
    {
      "cell_type": "markdown",
      "metadata": {
        "id": "eUNZhEF2jBGE"
      },
      "source": [
        "The code below shows the length of the variable from the letter in position 0 to the rest with an increment or step of 2 by spelling out the variable"
      ]
    },
    {
      "cell_type": "code",
      "metadata": {
        "id": "2WnMJVs3YEPJ",
        "outputId": "43fa6476-1e9a-4348-c2b7-9c01f4ebd878"
      },
      "source": [
        "name[0:len(name):2]"
      ],
      "execution_count": null,
      "outputs": [
        {
          "output_type": "execute_result",
          "data": {
            "text/plain": [
              "'CiaIuz'"
            ]
          },
          "metadata": {
            "tags": []
          },
          "execution_count": 64
        }
      ]
    },
    {
      "cell_type": "markdown",
      "metadata": {
        "id": "PHyZfwYWYEPJ"
      },
      "source": [
        "### Partial Slicing \n",
        "One thing to note is that specifying the start and end indices is optional.\n",
        "\n",
        "If start is not provided, the substring will have all the characters until the end index.\n",
        "\n",
        "If end is not provided, the substring will begin from the start index and go all the way to the end."
      ]
    },
    {
      "cell_type": "code",
      "metadata": {
        "id": "UHMLGznaYEPK",
        "outputId": "d818d4d0-e250-40f4-edc8-b13a010d6fcc"
      },
      "source": [
        "name[0:]"
      ],
      "execution_count": null,
      "outputs": [
        {
          "output_type": "execute_result",
          "data": {
            "text/plain": [
              "'Chima Ihueze'"
            ]
          },
          "metadata": {
            "tags": []
          },
          "execution_count": 68
        }
      ]
    },
    {
      "cell_type": "code",
      "metadata": {
        "id": "Diood5lNYEPK"
      },
      "source": [
        "# Concatenation"
      ],
      "execution_count": null,
      "outputs": []
    },
    {
      "cell_type": "markdown",
      "metadata": {
        "id": "PsCzAja1kgXm"
      },
      "source": [
        "Addition of two integers"
      ]
    },
    {
      "cell_type": "code",
      "metadata": {
        "id": "qeT_B4foYEPK",
        "outputId": "085398e7-2318-41be-8205-94c2d5286b1c"
      },
      "source": [
        "1 + 1"
      ],
      "execution_count": null,
      "outputs": [
        {
          "output_type": "execute_result",
          "data": {
            "text/plain": [
              "2"
            ]
          },
          "metadata": {
            "tags": []
          },
          "execution_count": 82
        }
      ]
    },
    {
      "cell_type": "markdown",
      "metadata": {
        "id": "ClYsCki8kjWx"
      },
      "source": [
        "Addition of two strings. The output is different from the output above as additional operations cannot be carried out in a string in the same way it would in an integer"
      ]
    },
    {
      "cell_type": "code",
      "metadata": {
        "id": "EHV0wLDcYEPK",
        "outputId": "950144f4-8e77-4d4f-c6e9-310b882c81c8"
      },
      "source": [
        "\"1\" + \"1\""
      ],
      "execution_count": null,
      "outputs": [
        {
          "output_type": "execute_result",
          "data": {
            "text/plain": [
              "'11'"
            ]
          },
          "metadata": {
            "tags": []
          },
          "execution_count": 83
        }
      ]
    },
    {
      "cell_type": "code",
      "metadata": {
        "id": "5E4U6QCcYEPL",
        "outputId": "76da7f83-dfa7-42c9-9c31-d44dc3e8df92"
      },
      "source": [
        "10 + 10"
      ],
      "execution_count": null,
      "outputs": [
        {
          "output_type": "execute_result",
          "data": {
            "text/plain": [
              "20"
            ]
          },
          "metadata": {
            "tags": []
          },
          "execution_count": 84
        }
      ]
    },
    {
      "cell_type": "code",
      "metadata": {
        "id": "zrqJfsGEYEPL",
        "outputId": "ce6a047d-f33f-45aa-c117-6fcfe358aa25"
      },
      "source": [
        "\"10\" + \"10\""
      ],
      "execution_count": null,
      "outputs": [
        {
          "output_type": "execute_result",
          "data": {
            "text/plain": [
              "'1010'"
            ]
          },
          "metadata": {
            "tags": []
          },
          "execution_count": 85
        }
      ]
    },
    {
      "cell_type": "code",
      "metadata": {
        "id": "rd7TxnUUYEPL"
      },
      "source": [
        "fname = \"Chima\"\n",
        "lname = \"Ihueze\""
      ],
      "execution_count": null,
      "outputs": []
    },
    {
      "cell_type": "markdown",
      "metadata": {
        "id": "LkfwQ0YWj8u4"
      },
      "source": [
        "The code below outputs the two variables without spacing between them, showing them as one word instead of two. "
      ]
    },
    {
      "cell_type": "code",
      "metadata": {
        "id": "0MGeBiSSYEPL",
        "outputId": "3e6cb2ec-bddf-4286-eb83-8259f6cdc4c6"
      },
      "source": [
        "fname + lname"
      ],
      "execution_count": null,
      "outputs": [
        {
          "output_type": "execute_result",
          "data": {
            "text/plain": [
              "'ChimaIhueze'"
            ]
          },
          "metadata": {
            "tags": []
          },
          "execution_count": 87
        }
      ]
    },
    {
      "cell_type": "markdown",
      "metadata": {
        "id": "MTrmR9PikPcN"
      },
      "source": [
        "To remedy the above output, a spacing has to be added using a double quote in the concatenation"
      ]
    },
    {
      "cell_type": "markdown",
      "metadata": {
        "id": "pfM6US3FjqJs"
      },
      "source": [
        "The code below outputs the two variables with a space between them to create two words"
      ]
    },
    {
      "cell_type": "code",
      "metadata": {
        "id": "3WaYFx56YEPL",
        "outputId": "a1d275ba-a157-4dc7-8b11-7223dc29a2bd"
      },
      "source": [
        "fname + \" \" + lname"
      ],
      "execution_count": null,
      "outputs": [
        {
          "output_type": "execute_result",
          "data": {
            "text/plain": [
              "'Chima Ihueze'"
            ]
          },
          "metadata": {
            "tags": []
          },
          "execution_count": 88
        }
      ]
    },
    {
      "cell_type": "markdown",
      "metadata": {
        "id": "8vn9pjfqjjXH"
      },
      "source": [
        "The code below shows the multiplication of two integers"
      ]
    },
    {
      "cell_type": "code",
      "metadata": {
        "id": "QwLw2HJ_YEPM",
        "outputId": "1f7d717e-a824-47e6-c7ad-b24e5c35a8d6"
      },
      "source": [
        "10 * 20"
      ],
      "execution_count": null,
      "outputs": [
        {
          "output_type": "execute_result",
          "data": {
            "text/plain": [
              "200"
            ]
          },
          "metadata": {
            "tags": []
          },
          "execution_count": 96
        }
      ]
    },
    {
      "cell_type": "markdown",
      "metadata": {
        "id": "RTE0SYRYjRdh"
      },
      "source": [
        "The code below does not multiply the numbers like it would in the case of two integers, rather it would output the string repeatedly 20 times"
      ]
    },
    {
      "cell_type": "code",
      "metadata": {
        "id": "2oriBMs0YEPM",
        "outputId": "38c2c5bf-5a85-447f-c114-42cfb82a3c9a"
      },
      "source": [
        "\"10\" * 20"
      ],
      "execution_count": null,
      "outputs": [
        {
          "output_type": "execute_result",
          "data": {
            "text/plain": [
              "'1010101010101010101010101010101010101010'"
            ]
          },
          "metadata": {
            "tags": []
          },
          "execution_count": 95
        }
      ]
    },
    {
      "cell_type": "markdown",
      "metadata": {
        "id": "JUOPOFErYEPM"
      },
      "source": [
        "# Immutability"
      ]
    },
    {
      "cell_type": "code",
      "metadata": {
        "id": "OKxu6aO2YEPM"
      },
      "source": [
        "# List\n",
        "\n",
        "num = [1, 2, 3, 4, 5]"
      ],
      "execution_count": null,
      "outputs": []
    },
    {
      "cell_type": "code",
      "metadata": {
        "id": "T4REk9CgYEPN",
        "outputId": "0ae1038c-905b-4dc1-8d06-1712d87969fb"
      },
      "source": [
        "num"
      ],
      "execution_count": null,
      "outputs": [
        {
          "output_type": "execute_result",
          "data": {
            "text/plain": [
              "[1, 2, 3, 4, 5]"
            ]
          },
          "metadata": {
            "tags": []
          },
          "execution_count": 98
        }
      ]
    },
    {
      "cell_type": "code",
      "metadata": {
        "id": "QDp-ywFsYEPN"
      },
      "source": [
        "num[2] = 10"
      ],
      "execution_count": null,
      "outputs": []
    },
    {
      "cell_type": "markdown",
      "metadata": {
        "id": "JVUDgfSLnkra"
      },
      "source": [
        "This code reassigns the integer in the third position from 3 to 10"
      ]
    },
    {
      "cell_type": "code",
      "metadata": {
        "id": "sLpRNZfwYEPN",
        "outputId": "df9997df-6eb1-4b06-dea8-869557b6ca2f"
      },
      "source": [
        "num"
      ],
      "execution_count": null,
      "outputs": [
        {
          "output_type": "execute_result",
          "data": {
            "text/plain": [
              "[1, 2, 10, 4, 5]"
            ]
          },
          "metadata": {
            "tags": []
          },
          "execution_count": 100
        }
      ]
    },
    {
      "cell_type": "code",
      "metadata": {
        "id": "tG1NsKzxYEPO"
      },
      "source": [
        "num[2] = \"10\""
      ],
      "execution_count": null,
      "outputs": []
    },
    {
      "cell_type": "markdown",
      "metadata": {
        "id": "mj7nN5ranZnm"
      },
      "source": [
        "This code reassigns the integer in the third position from an integer to a string"
      ]
    },
    {
      "cell_type": "code",
      "metadata": {
        "id": "4SHLwcq4YEPO",
        "outputId": "1b6de916-adf3-45ad-8ac8-8a5d9b527efd"
      },
      "source": [
        "num"
      ],
      "execution_count": null,
      "outputs": [
        {
          "output_type": "execute_result",
          "data": {
            "text/plain": [
              "[1, 2, '10', 4, 5]"
            ]
          },
          "metadata": {
            "tags": []
          },
          "execution_count": 102
        }
      ]
    },
    {
      "cell_type": "code",
      "metadata": {
        "id": "2sxoiC_LYEPO"
      },
      "source": [
        "name = \"Chima Ihueze\""
      ],
      "execution_count": null,
      "outputs": []
    },
    {
      "cell_type": "markdown",
      "metadata": {
        "id": "4WACS4iElF8T"
      },
      "source": [
        "Once a variable is assigned in a string, it cannot be changed. Hence the TypeError that the code below returns"
      ]
    },
    {
      "cell_type": "code",
      "metadata": {
        "id": "kkd_HUovYEPO",
        "outputId": "908f56f8-e176-4fff-b8c3-e44bea170940"
      },
      "source": [
        "name[2] = 't'"
      ],
      "execution_count": null,
      "outputs": [
        {
          "output_type": "error",
          "ename": "TypeError",
          "evalue": "'str' object does not support item assignment",
          "traceback": [
            "\u001b[1;31m---------------------------------------------------------------------------\u001b[0m",
            "\u001b[1;31mTypeError\u001b[0m                                 Traceback (most recent call last)",
            "\u001b[1;32m<ipython-input-104-f085ffa32b9f>\u001b[0m in \u001b[0;36m<module>\u001b[1;34m\u001b[0m\n\u001b[1;32m----> 1\u001b[1;33m \u001b[0mname\u001b[0m\u001b[1;33m[\u001b[0m\u001b[1;36m2\u001b[0m\u001b[1;33m]\u001b[0m \u001b[1;33m=\u001b[0m \u001b[1;34m't'\u001b[0m\u001b[1;33m\u001b[0m\u001b[1;33m\u001b[0m\u001b[0m\n\u001b[0m",
            "\u001b[1;31mTypeError\u001b[0m: 'str' object does not support item assignment"
          ]
        }
      ]
    },
    {
      "cell_type": "code",
      "metadata": {
        "id": "OwUYx80qYEPP"
      },
      "source": [
        ""
      ],
      "execution_count": null,
      "outputs": []
    },
    {
      "cell_type": "code",
      "metadata": {
        "id": "3Tb-pPuqYEPP"
      },
      "source": [
        ""
      ],
      "execution_count": null,
      "outputs": []
    },
    {
      "cell_type": "code",
      "metadata": {
        "id": "v3Bq8Jc_YEPP"
      },
      "source": [
        ""
      ],
      "execution_count": null,
      "outputs": []
    },
    {
      "cell_type": "markdown",
      "metadata": {
        "id": "FgbUojuqYEPQ"
      },
      "source": [
        "# String Methods\n",
        "\n",
        "Methods in Python are functions that can be referenced using a dot (.)\n",
        "They are popular and you may come across them very often. Strings have methods as well that can be used to reform or extract some details from the string.\n",
        "\n",
        "Below are the Methods in Strings:\n",
        "- capitalise    \n",
        "- strip\n",
        "- casefold     \n",
        "- center   \n",
        "- count   \n",
        "- encode   \n",
        "- endswith  \n",
        "- expandtabs   \n",
        "- find    \n",
        "- format   \n",
        "- format_map   \n",
        "- index   \n",
        "- isalnum   \n",
        "- isdecimal  \n",
        "- isdigit   \n",
        "- isidentifier   \n",
        "- islower   \n",
        "- isnumeric   \n",
        "- isprintable   \n",
        "- isspace    \n",
        "- istitle    \n",
        "- isupper    \n",
        "- join    \n",
        "- ljust\n",
        "\n",
        "However, in all of these there is no need to memorise. When you code and you feel there should be a simpler way of doing a certain thing, then you can check out the documentation of that tool you are working with.\n",
        "\n",
        "As an example, we will practice some codes later in today's class."
      ]
    },
    {
      "cell_type": "code",
      "metadata": {
        "id": "mh4I_vDJYEPQ"
      },
      "source": [
        "name = 'Chima Ihueze'"
      ],
      "execution_count": null,
      "outputs": []
    },
    {
      "cell_type": "markdown",
      "metadata": {
        "id": "6yXR-icwlQze"
      },
      "source": [
        "This capitalizes the first word"
      ]
    },
    {
      "cell_type": "code",
      "metadata": {
        "id": "szI1CRIBYEPQ",
        "outputId": "44c639d7-5298-43be-c0cb-9c5d584be07b"
      },
      "source": [
        "name.capitalize()"
      ],
      "execution_count": null,
      "outputs": [
        {
          "output_type": "execute_result",
          "data": {
            "text/plain": [
              "'Chima ihueze'"
            ]
          },
          "metadata": {
            "tags": []
          },
          "execution_count": 127
        }
      ]
    },
    {
      "cell_type": "code",
      "metadata": {
        "id": "ZzzkXO7KYEPQ",
        "outputId": "76032372-803c-4a00-fdd1-2a9121cc80f7"
      },
      "source": [
        "name.capitalize()"
      ],
      "execution_count": null,
      "outputs": [
        {
          "output_type": "execute_result",
          "data": {
            "text/plain": [
              "'Chima ihueze'"
            ]
          },
          "metadata": {
            "tags": []
          },
          "execution_count": 130
        }
      ]
    },
    {
      "cell_type": "markdown",
      "metadata": {
        "id": "9TZBwDyblV-H"
      },
      "source": [
        "This changes the letters to uppercase"
      ]
    },
    {
      "cell_type": "code",
      "metadata": {
        "id": "SMDEdbZDYEPR",
        "outputId": "a2e9dd0b-faab-4b02-b8fe-81bae269beab"
      },
      "source": [
        "name.upper()"
      ],
      "execution_count": null,
      "outputs": [
        {
          "output_type": "execute_result",
          "data": {
            "text/plain": [
              "'CHIMA IHUEZE'"
            ]
          },
          "metadata": {
            "tags": []
          },
          "execution_count": 121
        }
      ]
    },
    {
      "cell_type": "markdown",
      "metadata": {
        "id": "E_IOYujtlbJc"
      },
      "source": [
        "This changes the letters to lowercase"
      ]
    },
    {
      "cell_type": "code",
      "metadata": {
        "id": "DnS9_rTaYEPR",
        "outputId": "d90cf322-b3c4-490d-fa7e-63d64eafb2e0"
      },
      "source": [
        "name.lower()"
      ],
      "execution_count": null,
      "outputs": [
        {
          "output_type": "execute_result",
          "data": {
            "text/plain": [
              "'chima ihueze'"
            ]
          },
          "metadata": {
            "tags": []
          },
          "execution_count": 122
        }
      ]
    },
    {
      "cell_type": "code",
      "metadata": {
        "id": "mrhjNC6ZYEPR"
      },
      "source": [
        "name = \"Okeke Babalawo\""
      ],
      "execution_count": null,
      "outputs": []
    },
    {
      "cell_type": "code",
      "metadata": {
        "id": "1w0qkPyKYEPS",
        "outputId": "e9ecc56c-dbd4-48bb-a8e4-7e28cf72f215"
      },
      "source": [
        "name.capitalize()"
      ],
      "execution_count": null,
      "outputs": [
        {
          "output_type": "execute_result",
          "data": {
            "text/plain": [
              "'Okeke babalawo'"
            ]
          },
          "metadata": {
            "tags": []
          },
          "execution_count": 133
        }
      ]
    },
    {
      "cell_type": "markdown",
      "metadata": {
        "id": "ZLpod1Oflfzw"
      },
      "source": [
        "The count() function counts the number of values. In this case, it's outputing the sum of the values a in the variable 'name'"
      ]
    },
    {
      "cell_type": "code",
      "metadata": {
        "id": "_76x6OcCYEPS",
        "outputId": "9acf02ce-f562-44a3-c69d-db079d8ab13a"
      },
      "source": [
        "name.count('a')"
      ],
      "execution_count": null,
      "outputs": [
        {
          "output_type": "execute_result",
          "data": {
            "text/plain": [
              "3"
            ]
          },
          "metadata": {
            "tags": []
          },
          "execution_count": 125
        }
      ]
    },
    {
      "cell_type": "code",
      "metadata": {
        "id": "AdzUI5-3YEPS"
      },
      "source": [
        "# strip"
      ],
      "execution_count": null,
      "outputs": []
    },
    {
      "cell_type": "markdown",
      "metadata": {
        "id": "37eS6l2VlwIN"
      },
      "source": [
        "Strip() function removes white spaces"
      ]
    },
    {
      "cell_type": "code",
      "metadata": {
        "id": "Iy3Vr2QmYEPT"
      },
      "source": [
        "name = \" Chima \""
      ],
      "execution_count": null,
      "outputs": []
    },
    {
      "cell_type": "markdown",
      "metadata": {
        "id": "21bCBKL0l9ij"
      },
      "source": [
        "Without the strip() function, there is whitespaces at the beginning and end of the variable"
      ]
    },
    {
      "cell_type": "code",
      "metadata": {
        "id": "lMb_dXmEYEPT",
        "outputId": "296fd81a-2f8b-4ee2-f136-1291bb1c5ef6"
      },
      "source": [
        "name"
      ],
      "execution_count": null,
      "outputs": [
        {
          "output_type": "execute_result",
          "data": {
            "text/plain": [
              "' Chima '"
            ]
          },
          "metadata": {
            "tags": []
          },
          "execution_count": 136
        }
      ]
    },
    {
      "cell_type": "markdown",
      "metadata": {
        "id": "7O2xEWoxmJL8"
      },
      "source": [
        "With the strip() function, there is no whitespace at the beginning or end of the variable"
      ]
    },
    {
      "cell_type": "code",
      "metadata": {
        "id": "HQnQmfbEYEPT",
        "outputId": "2ef4153f-97d4-45a1-f5c5-e66afd8af22f"
      },
      "source": [
        "name.strip()"
      ],
      "execution_count": null,
      "outputs": [
        {
          "output_type": "execute_result",
          "data": {
            "text/plain": [
              "'Chima'"
            ]
          },
          "metadata": {
            "tags": []
          },
          "execution_count": 135
        }
      ]
    },
    {
      "cell_type": "code",
      "metadata": {
        "id": "2rYCDFhbYEPT"
      },
      "source": [
        ""
      ],
      "execution_count": null,
      "outputs": []
    },
    {
      "cell_type": "code",
      "metadata": {
        "id": "0rqRO8JZYEPU"
      },
      "source": [
        "#capitalize()\n",
        "#The capitalize() method converts the first character of the string in uppercase and puts all other characters into lowercase."
      ],
      "execution_count": null,
      "outputs": []
    },
    {
      "cell_type": "code",
      "metadata": {
        "id": "wMAE2NCNYEPU"
      },
      "source": [
        "fname = \"chima\""
      ],
      "execution_count": null,
      "outputs": []
    },
    {
      "cell_type": "code",
      "metadata": {
        "id": "2XnRRjEzYEPU",
        "outputId": "6b86b128-87c3-4cbe-a8a6-370191165f29"
      },
      "source": [
        "fname.capitalize()"
      ],
      "execution_count": null,
      "outputs": [
        {
          "output_type": "execute_result",
          "data": {
            "text/plain": [
              "'Chima'"
            ]
          },
          "metadata": {
            "tags": []
          },
          "execution_count": 9
        }
      ]
    },
    {
      "cell_type": "code",
      "metadata": {
        "id": "NiTC-weJYEPU"
      },
      "source": [
        "#strip()\n",
        "#The strip() method removes any whitespaces from the beginning and the end of a string."
      ],
      "execution_count": null,
      "outputs": []
    },
    {
      "cell_type": "code",
      "metadata": {
        "id": "wxw6M2DsYEPU",
        "outputId": "e80ef246-6e8f-4845-a388-f2d92855d8be"
      },
      "source": [
        "name = \" Chima Ihueze \"\n",
        "name.strip()"
      ],
      "execution_count": null,
      "outputs": [
        {
          "output_type": "execute_result",
          "data": {
            "text/plain": [
              "'Chima Ihueze'"
            ]
          },
          "metadata": {
            "tags": []
          },
          "execution_count": 10
        }
      ]
    },
    {
      "cell_type": "code",
      "metadata": {
        "id": "FhXoqJFFYEPV"
      },
      "source": [
        "# upper()\n",
        "# The upper() method returns the string in upper case."
      ],
      "execution_count": null,
      "outputs": []
    },
    {
      "cell_type": "code",
      "metadata": {
        "id": "6foOGfYoYEPV",
        "outputId": "8a5db4c9-370f-4ba4-9777-6e29c8d802c6"
      },
      "source": [
        "name.upper()"
      ],
      "execution_count": null,
      "outputs": [
        {
          "output_type": "execute_result",
          "data": {
            "text/plain": [
              "' CHIMA IHUEZE '"
            ]
          },
          "metadata": {
            "tags": []
          },
          "execution_count": 15
        }
      ]
    },
    {
      "cell_type": "code",
      "metadata": {
        "id": "Byza4Mr2YEPV",
        "outputId": "e7961611-2f9a-420b-ce38-ede9d8be8fef"
      },
      "source": [
        "# Task 1\n",
        "# Write an expression that converts all texts to a lower case\n",
        "text = \"Weather Underground provides local & long-range weather forecasts, \\\n",
        "weather reports, maps & tropical weather conditions for locations worldwide.\"\n",
        "\n",
        "lowercase_text = text.lower()\n",
        "lowercase_text"
      ],
      "execution_count": null,
      "outputs": [
        {
          "output_type": "execute_result",
          "data": {
            "text/plain": [
              "'weather underground provides local & long-range weather forecasts, weather reports, maps & tropical weather conditions for locations worldwide.'"
            ]
          },
          "metadata": {
            "tags": []
          },
          "execution_count": 11
        }
      ]
    },
    {
      "cell_type": "code",
      "metadata": {
        "id": "nQ2ByuC1YEPV",
        "outputId": "14aaffea-3bcc-453e-ac05-978b22dd3224"
      },
      "source": [
        "lowercase_text.islower()  # check if the text is in lower case"
      ],
      "execution_count": null,
      "outputs": [
        {
          "output_type": "execute_result",
          "data": {
            "text/plain": [
              "True"
            ]
          },
          "metadata": {
            "tags": []
          },
          "execution_count": 12
        }
      ]
    },
    {
      "cell_type": "code",
      "metadata": {
        "id": "aJ5kBLI5YEPW"
      },
      "source": [
        ""
      ],
      "execution_count": null,
      "outputs": []
    },
    {
      "cell_type": "code",
      "metadata": {
        "id": "SNaWpcKkYEPW"
      },
      "source": [
        ""
      ],
      "execution_count": null,
      "outputs": []
    },
    {
      "cell_type": "markdown",
      "metadata": {
        "id": "z-TkUr-mYEPW"
      },
      "source": [
        "#### CLASS WORK\n",
        "\n",
        "1. Write few lines of codes that counts how many words present in the `text` (Hint: Answer = 18)\n",
        "2. Write few lines of codes that count how many times the word \"weather\" appeared `text`. (Hint: Answer = 4)"
      ]
    },
    {
      "cell_type": "markdown",
      "metadata": {
        "id": "3Y7BtDd_YEPW"
      },
      "source": [
        "### Type Conversion\n",
        "\n",
        "When you need to specify or convert a data type, a simple keyword can be used. We will focus on the conversion now and then we will look at the specification in the next class on __Input expression__."
      ]
    },
    {
      "cell_type": "code",
      "metadata": {
        "id": "0In4K6VXYEPW"
      },
      "source": [
        "# float\n",
        "# integer\n",
        "# string"
      ],
      "execution_count": null,
      "outputs": []
    },
    {
      "cell_type": "code",
      "metadata": {
        "id": "ZOpJXT0sYEPW",
        "outputId": "f142ad80-d93e-4288-d14e-9e57f69fcc4f"
      },
      "source": [
        "a = 20.5\n",
        "type(a)"
      ],
      "execution_count": null,
      "outputs": [
        {
          "output_type": "execute_result",
          "data": {
            "text/plain": [
              "float"
            ]
          },
          "metadata": {
            "tags": []
          },
          "execution_count": 141
        }
      ]
    },
    {
      "cell_type": "code",
      "metadata": {
        "id": "8zdnSpNfYEPX",
        "outputId": "c5412904-8f8f-4431-806a-6ee85eda3279"
      },
      "source": [
        "b = 10\n",
        "type(b)"
      ],
      "execution_count": null,
      "outputs": [
        {
          "output_type": "execute_result",
          "data": {
            "text/plain": [
              "int"
            ]
          },
          "metadata": {
            "tags": []
          },
          "execution_count": 138
        }
      ]
    },
    {
      "cell_type": "code",
      "metadata": {
        "id": "14_WPTX2YEPX",
        "outputId": "97497733-2c48-4f07-e09d-772608e9fc04"
      },
      "source": [
        "c = \"Man\"\n",
        "type(c)"
      ],
      "execution_count": null,
      "outputs": [
        {
          "output_type": "execute_result",
          "data": {
            "text/plain": [
              "str"
            ]
          },
          "metadata": {
            "tags": []
          },
          "execution_count": 139
        }
      ]
    },
    {
      "cell_type": "markdown",
      "metadata": {
        "id": "eJsKrogfmylo"
      },
      "source": [
        "Converts a float to an integer"
      ]
    },
    {
      "cell_type": "code",
      "metadata": {
        "id": "H6jWS_NcYEPX",
        "outputId": "fe639068-bb3e-429b-ad9c-72a1ddafa9d8"
      },
      "source": [
        "int(20.5)"
      ],
      "execution_count": null,
      "outputs": [
        {
          "output_type": "execute_result",
          "data": {
            "text/plain": [
              "20"
            ]
          },
          "metadata": {
            "tags": []
          },
          "execution_count": 144
        }
      ]
    },
    {
      "cell_type": "markdown",
      "metadata": {
        "id": "jGScZFdKm2qi"
      },
      "source": [
        "Converts an integer to a float"
      ]
    },
    {
      "cell_type": "code",
      "metadata": {
        "id": "8su9xyH9YEPX",
        "outputId": "85910df8-69ee-49a3-df6f-8f3e4bca5278"
      },
      "source": [
        "float(30)"
      ],
      "execution_count": null,
      "outputs": [
        {
          "output_type": "execute_result",
          "data": {
            "text/plain": [
              "30.0"
            ]
          },
          "metadata": {
            "tags": []
          },
          "execution_count": 145
        }
      ]
    },
    {
      "cell_type": "markdown",
      "metadata": {
        "id": "sw7QusWBnEPh"
      },
      "source": [
        "Converts a float to a string"
      ]
    },
    {
      "cell_type": "code",
      "metadata": {
        "id": "7a7Fe_YvYEPX",
        "outputId": "b6eefa13-768f-4ebe-b85f-b2b432a79565"
      },
      "source": [
        "str(10.5)"
      ],
      "execution_count": null,
      "outputs": [
        {
          "output_type": "execute_result",
          "data": {
            "text/plain": [
              "'10.5'"
            ]
          },
          "metadata": {
            "tags": []
          },
          "execution_count": 147
        }
      ]
    },
    {
      "cell_type": "markdown",
      "metadata": {
        "id": "NcIE5UlanIH-"
      },
      "source": [
        "Converts a string to an integer"
      ]
    },
    {
      "cell_type": "code",
      "metadata": {
        "id": "eWF4_lIwYEPY",
        "outputId": "4623e9f5-34e5-4533-fac6-367f650161ff"
      },
      "source": [
        "int(\"10\")"
      ],
      "execution_count": null,
      "outputs": [
        {
          "output_type": "execute_result",
          "data": {
            "text/plain": [
              "10"
            ]
          },
          "metadata": {
            "tags": []
          },
          "execution_count": 148
        }
      ]
    },
    {
      "cell_type": "code",
      "metadata": {
        "id": "oSFaSQ0-YEPY"
      },
      "source": [
        ""
      ],
      "execution_count": null,
      "outputs": []
    },
    {
      "cell_type": "code",
      "metadata": {
        "id": "B1z2zcclYEPY"
      },
      "source": [
        ""
      ],
      "execution_count": null,
      "outputs": []
    },
    {
      "cell_type": "code",
      "metadata": {
        "id": "32mybDTPYEPY"
      },
      "source": [
        ""
      ],
      "execution_count": null,
      "outputs": []
    },
    {
      "cell_type": "code",
      "metadata": {
        "id": "-IMzK5LJYEPY"
      },
      "source": [
        ""
      ],
      "execution_count": null,
      "outputs": []
    },
    {
      "cell_type": "code",
      "metadata": {
        "id": "vQUkz0kHYEPY"
      },
      "source": [
        "# What data type is y?\n",
        "y = \"67\"\n",
        "type(y)"
      ],
      "execution_count": null,
      "outputs": []
    },
    {
      "cell_type": "code",
      "metadata": {
        "id": "Nu2cjoWgYEPZ"
      },
      "source": [
        "z = int(\"k\")\n",
        "type(z)"
      ],
      "execution_count": null,
      "outputs": []
    },
    {
      "cell_type": "code",
      "metadata": {
        "id": "EUoUXwTzYEPZ",
        "outputId": "672c8394-7051-48c2-b3bc-c93313001ac6"
      },
      "source": [
        "# int to float\n",
        "\n",
        "a = 10\n",
        "float(a)"
      ],
      "execution_count": null,
      "outputs": [
        {
          "output_type": "execute_result",
          "data": {
            "text/plain": [
              "10.0"
            ]
          },
          "metadata": {
            "tags": []
          },
          "execution_count": 46
        }
      ]
    },
    {
      "cell_type": "code",
      "metadata": {
        "id": "ZVTO1zHwYEPZ",
        "outputId": "31191750-528f-458a-b34d-8ff873bd4ba4"
      },
      "source": [
        "# float to int\n",
        "b = 10.5\n",
        "int(b)"
      ],
      "execution_count": null,
      "outputs": [
        {
          "output_type": "execute_result",
          "data": {
            "text/plain": [
              "10"
            ]
          },
          "metadata": {
            "tags": []
          },
          "execution_count": 49
        }
      ]
    },
    {
      "cell_type": "markdown",
      "metadata": {
        "id": "tB9rMXSEoeMk"
      },
      "source": [
        "# Note"
      ]
    },
    {
      "cell_type": "markdown",
      "metadata": {
        "id": "fQze72RGoh9e"
      },
      "source": [
        "The outputs run are in numerical order. If a variable is assigned and run, it follows the numerical order. Calling that variable after it is changed will output the former variable except the new variable is run"
      ]
    },
    {
      "cell_type": "markdown",
      "metadata": {
        "id": "E02ptcWTYEPZ"
      },
      "source": [
        "### CODE DOCUMENTATION"
      ]
    },
    {
      "cell_type": "markdown",
      "metadata": {
        "id": "Y3wnXd4RYEPZ"
      },
      "source": [
        "It is very important that anyone who writes code, to document them. Documentation makes your codes more understandable especially for someone reading them in your absence. Therefore when documenting and naming variables, do so by bearing readers in mind.\n",
        "\n",
        "All documentations are written with strings.\n",
        "\n",
        "Documentation can be written in three ways:\n",
        "- Markdowns: A detailed explanation that narrates one's work process/purpose. (Often used in notebooks and GitHub README)\n",
        "- Code comment: Very short sentences that describes a code or few code lines.\n",
        "- DOCSTRINGS: A short sentence or block of sentences that describes the purpose of a function or class. (Don't worry about these terms, we will still learn and implement them)"
      ]
    }
  ]
}